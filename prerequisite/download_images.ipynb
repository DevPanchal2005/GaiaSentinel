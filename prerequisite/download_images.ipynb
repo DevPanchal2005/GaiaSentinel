{
 "cells": [
  {
   "cell_type": "code",
   "execution_count": null,
   "id": "b60bebf6",
   "metadata": {},
   "outputs": [],
   "source": [
    "import csv\n",
    "import os\n",
    "import requests\n",
    "from tqdm import tqdm\n",
    "\n",
    "CSV_FILE = \"data/all_image_urls.csv\"\n",
    "SAVE_DIR = \"data/downloaded_images\"\n",
    "\n",
    "os.makedirs(SAVE_DIR, exist_ok=True)\n",
    "\n",
    "with open(CSV_FILE, \"r\") as f:\n",
    "    reader = csv.reader(f)\n",
    "    for row in tqdm(reader):\n",
    "        original_url = row[1].strip()  # second column\n",
    "        filename = original_url.split(\"/\")[-1]\n",
    "        filepath = os.path.join(SAVE_DIR, filename)\n",
    "\n",
    "        if not os.path.exists(filepath):\n",
    "            try:\n",
    "                r = requests.get(original_url, timeout=10)\n",
    "                with open(filepath, \"wb\") as out:\n",
    "                    out.write(r.content)\n",
    "            except Exception as e:\n",
    "                print(f\"Failed to download {original_url}: {e}\")"
   ]
  }
 ],
 "metadata": {
  "language_info": {
   "name": "python"
  }
 },
 "nbformat": 4,
 "nbformat_minor": 5
}
